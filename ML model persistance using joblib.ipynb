{
 "cells": [
  {
   "cell_type": "markdown",
   "id": "e9ec4904",
   "metadata": {},
   "source": [
    "### demonstration of how Machine Learning Models can be saved and loaded as a file\n"
   ]
  },
  {
   "cell_type": "markdown",
   "id": "6e10ea67",
   "metadata": {},
   "source": [
    "### this notebook is divided in two sections one for making a model and saving it another for loading it and making predictions"
   ]
  },
  {
   "cell_type": "markdown",
   "id": "94b93dae",
   "metadata": {},
   "source": [
    "### SECTION 1 making a model and saving it as a joblib file"
   ]
  },
  {
   "cell_type": "markdown",
   "id": "2aba17f5",
   "metadata": {},
   "source": [
    "#### Importing Libraries\n",
    "- pandas(data reading and operation)\n",
    "- sklearn.tree(Decision Tree Classifier)\n",
    "- sklearn.modelselection(testing and training of model)\n",
    "- joblib"
   ]
  },
  {
   "cell_type": "code",
   "execution_count": 17,
   "id": "2983e34e",
   "metadata": {},
   "outputs": [],
   "source": [
    "import pandas as pd\n",
    "import matplotlib.pyplot as plt\n",
    "from sklearn.tree import DecisionTreeClassifier\n",
    "import joblib"
   ]
  },
  {
   "cell_type": "markdown",
   "id": "639c5936",
   "metadata": {},
   "source": [
    "#### making a model and saving it as a joblib file"
   ]
  },
  {
   "cell_type": "code",
   "execution_count": 19,
   "id": "22e9866e",
   "metadata": {},
   "outputs": [
    {
     "data": {
      "text/plain": [
       "['cars type with hp.joblib']"
      ]
     },
     "execution_count": 19,
     "metadata": {},
     "output_type": "execute_result"
    }
   ],
   "source": [
    "\n",
    "data = pd.read_csv('C:/Users/Irfan/datasets/csv/cars and hp.csv') #CHANGE THE PATH OF YOUR DATASET HERE \n",
    "\n",
    "X = data.drop(columns=['type'])\n",
    "y = data['type'] \n",
    "\n",
    "model = DecisionTreeClassifier()\n",
    "model.fit(X,y)\n",
    "\n",
    "joblib.dump(model, 'cars type with hp.joblib')\n",
    "\n"
   ]
  },
  {
   "cell_type": "markdown",
   "id": "57d78a46",
   "metadata": {},
   "source": [
    "### SECTION 2 loading our saved joblib file(trained ML model) and making predictions"
   ]
  },
  {
   "cell_type": "markdown",
   "id": "17754012",
   "metadata": {},
   "source": [
    "#### loading our joblib file which is actually our trained ML model "
   ]
  },
  {
   "cell_type": "code",
   "execution_count": 22,
   "id": "fcf003dd",
   "metadata": {},
   "outputs": [
    {
     "data": {
      "text/plain": [
       "DecisionTreeClassifier()"
      ]
     },
     "execution_count": 22,
     "metadata": {},
     "output_type": "execute_result"
    }
   ],
   "source": [
    "joblib.load('cars type with hp.joblib')"
   ]
  },
  {
   "cell_type": "markdown",
   "id": "6dba6785",
   "metadata": {},
   "source": [
    "#### predictions"
   ]
  },
  {
   "cell_type": "code",
   "execution_count": 23,
   "id": "50fc05a5",
   "metadata": {},
   "outputs": [
    {
     "data": {
      "text/plain": [
       "array(['formula one car', 'hatchback', 'luxury sedan', 'truck'],\n",
       "      dtype=object)"
      ]
     },
     "execution_count": 23,
     "metadata": {},
     "output_type": "execute_result"
    }
   ],
   "source": [
    "predictions = model.predict([[1000,1],[100,4],[700,4],[232,7]])\n",
    "predictions"
   ]
  },
  {
   "cell_type": "markdown",
   "id": "1d8bbb46",
   "metadata": {},
   "source": [
    "### Try these both sections seperately with your dataset and random predictions for fun..."
   ]
  },
  {
   "cell_type": "code",
   "execution_count": null,
   "id": "b525815f",
   "metadata": {},
   "outputs": [],
   "source": []
  }
 ],
 "metadata": {
  "kernelspec": {
   "display_name": "Python 3",
   "language": "python",
   "name": "python3"
  },
  "language_info": {
   "codemirror_mode": {
    "name": "ipython",
    "version": 3
   },
   "file_extension": ".py",
   "mimetype": "text/x-python",
   "name": "python",
   "nbconvert_exporter": "python",
   "pygments_lexer": "ipython3",
   "version": "3.8.8"
  }
 },
 "nbformat": 4,
 "nbformat_minor": 5
}
